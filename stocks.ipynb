{
 "cells": [
  {
   "cell_type": "markdown",
   "metadata": {},
   "source": [
    "# Stocks"
   ]
  },
  {
   "cell_type": "code",
   "execution_count": null,
   "metadata": {},
   "outputs": [],
   "source": [
    "# Financial data.\n",
    "import yfinance as yf\n",
    "\n",
    "# Dates and times.\n",
    "import datetime as dt"
   ]
  },
  {
   "cell_type": "code",
   "execution_count": 11,
   "metadata": {},
   "outputs": [
    {
     "name": "stderr",
     "output_type": "stream",
     "text": [
      "[*********************100%***********************]  3 of 3 completed\n"
     ]
    }
   ],
   "source": [
    "# Get data for Microsoft, Apple, and Google.\n",
    "df = yf.download(['MSFT', 'AAPL', 'GOOG'], period=\"1d\", interval=\"1m\")"
   ]
  },
  {
   "cell_type": "code",
   "execution_count": null,
   "metadata": {},
   "outputs": [
    {
     "data": {
      "text/html": [
       "<div>\n",
       "<style scoped>\n",
       "    .dataframe tbody tr th:only-of-type {\n",
       "        vertical-align: middle;\n",
       "    }\n",
       "\n",
       "    .dataframe tbody tr th {\n",
       "        vertical-align: top;\n",
       "    }\n",
       "\n",
       "    .dataframe thead th {\n",
       "        text-align: right;\n",
       "    }\n",
       "</style>\n",
       "<table border=\"1\" class=\"dataframe\">\n",
       "  <thead>\n",
       "    <tr style=\"text-align: right;\">\n",
       "      <th>Ticker</th>\n",
       "      <th>AAPL</th>\n",
       "      <th>GOOG</th>\n",
       "      <th>MSFT</th>\n",
       "    </tr>\n",
       "    <tr>\n",
       "      <th>Datetime</th>\n",
       "      <th></th>\n",
       "      <th></th>\n",
       "      <th></th>\n",
       "    </tr>\n",
       "  </thead>\n",
       "  <tbody>\n",
       "    <tr>\n",
       "      <th>2024-11-15 14:30:00+00:00</th>\n",
       "      <td>226.610001</td>\n",
       "      <td>175.160004</td>\n",
       "      <td>421.480011</td>\n",
       "    </tr>\n",
       "    <tr>\n",
       "      <th>2024-11-15 14:31:00+00:00</th>\n",
       "      <td>226.568802</td>\n",
       "      <td>175.429993</td>\n",
       "      <td>421.940002</td>\n",
       "    </tr>\n",
       "    <tr>\n",
       "      <th>2024-11-15 14:32:00+00:00</th>\n",
       "      <td>226.214996</td>\n",
       "      <td>175.279999</td>\n",
       "      <td>422.084991</td>\n",
       "    </tr>\n",
       "    <tr>\n",
       "      <th>2024-11-15 14:33:00+00:00</th>\n",
       "      <td>226.255005</td>\n",
       "      <td>174.949997</td>\n",
       "      <td>421.869995</td>\n",
       "    </tr>\n",
       "    <tr>\n",
       "      <th>2024-11-15 14:34:00+00:00</th>\n",
       "      <td>226.339996</td>\n",
       "      <td>175.029999</td>\n",
       "      <td>420.899994</td>\n",
       "    </tr>\n",
       "    <tr>\n",
       "      <th>...</th>\n",
       "      <td>...</td>\n",
       "      <td>...</td>\n",
       "      <td>...</td>\n",
       "    </tr>\n",
       "    <tr>\n",
       "      <th>2024-11-15 20:55:00+00:00</th>\n",
       "      <td>225.199997</td>\n",
       "      <td>174.110001</td>\n",
       "      <td>415.609985</td>\n",
       "    </tr>\n",
       "    <tr>\n",
       "      <th>2024-11-15 20:56:00+00:00</th>\n",
       "      <td>225.039993</td>\n",
       "      <td>173.960007</td>\n",
       "      <td>415.200012</td>\n",
       "    </tr>\n",
       "    <tr>\n",
       "      <th>2024-11-15 20:57:00+00:00</th>\n",
       "      <td>225.093796</td>\n",
       "      <td>173.925003</td>\n",
       "      <td>415.019989</td>\n",
       "    </tr>\n",
       "    <tr>\n",
       "      <th>2024-11-15 20:58:00+00:00</th>\n",
       "      <td>225.130005</td>\n",
       "      <td>173.970001</td>\n",
       "      <td>415.010010</td>\n",
       "    </tr>\n",
       "    <tr>\n",
       "      <th>2024-11-15 20:59:00+00:00</th>\n",
       "      <td>224.919998</td>\n",
       "      <td>173.889999</td>\n",
       "      <td>414.809998</td>\n",
       "    </tr>\n",
       "  </tbody>\n",
       "</table>\n",
       "<p>390 rows × 3 columns</p>\n",
       "</div>"
      ],
      "text/plain": [
       "Ticker                           AAPL        GOOG        MSFT\n",
       "Datetime                                                     \n",
       "2024-11-15 14:30:00+00:00  226.610001  175.160004  421.480011\n",
       "2024-11-15 14:31:00+00:00  226.568802  175.429993  421.940002\n",
       "2024-11-15 14:32:00+00:00  226.214996  175.279999  422.084991\n",
       "2024-11-15 14:33:00+00:00  226.255005  174.949997  421.869995\n",
       "2024-11-15 14:34:00+00:00  226.339996  175.029999  420.899994\n",
       "...                               ...         ...         ...\n",
       "2024-11-15 20:55:00+00:00  225.199997  174.110001  415.609985\n",
       "2024-11-15 20:56:00+00:00  225.039993  173.960007  415.200012\n",
       "2024-11-15 20:57:00+00:00  225.093796  173.925003  415.019989\n",
       "2024-11-15 20:58:00+00:00  225.130005  173.970001  415.010010\n",
       "2024-11-15 20:59:00+00:00  224.919998  173.889999  414.809998\n",
       "\n",
       "[390 rows x 3 columns]"
      ]
     },
     "execution_count": 12,
     "metadata": {},
     "output_type": "execute_result"
    }
   ],
   "source": [
    "# Just the closing prices.\n",
    "df['Close']"
   ]
  },
  {
   "cell_type": "code",
   "execution_count": null,
   "metadata": {},
   "outputs": [
    {
     "data": {
      "text/plain": [
       "'data/20241118_135903.csv'"
      ]
     },
     "execution_count": 15,
     "metadata": {},
     "output_type": "execute_result"
    }
   ],
   "source": [
    "# Get the current date and time.\n",
    "filename = dt.datetime.now()\n",
    "# Create a string from the current date and time.\n",
    "filename = filename.strftime(\"%Y%m%d_%H%M%S\")\n",
    "# Prepend data folders, append file extension.\n",
    "filename = 'data/' + filename + \".csv\"\n",
    "\n",
    "# Show the filename.\n",
    "filename"
   ]
  },
  {
   "cell_type": "code",
   "execution_count": 17,
   "metadata": {},
   "outputs": [],
   "source": [
    "# Save the data to a CSV file.\n",
    "df['Close'].to_csv(filename)"
   ]
  },
  {
   "cell_type": "markdown",
   "metadata": {},
   "source": [
    "## End"
   ]
  }
 ],
 "metadata": {
  "language_info": {
   "name": "python"
  }
 },
 "nbformat": 4,
 "nbformat_minor": 2
}
